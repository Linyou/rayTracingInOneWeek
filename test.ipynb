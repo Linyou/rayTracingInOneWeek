{
 "cells": [
  {
   "cell_type": "code",
   "execution_count": 1,
   "id": "98f2e18f-5e48-47a6-9dc3-eb0fc5fcba89",
   "metadata": {},
   "outputs": [],
   "source": [
    "import numpy as np"
   ]
  },
  {
   "cell_type": "code",
   "execution_count": 12,
   "id": "23afcb51-de9f-40c6-ad62-0a88692a8324",
   "metadata": {},
   "outputs": [
    {
     "name": "stdout",
     "output_type": "stream",
     "text": [
      "[[0 0]\n",
      " [0 1]\n",
      " [1 0]\n",
      " [1 1]\n",
      " [2 0]\n",
      " [2 1]\n",
      " [2 2]\n",
      " [2 3]]\n"
     ]
    }
   ],
   "source": [
    "shape_index = np.zeros((8,2), dtype=int)\n",
    "shape_len = [2, 2, 4]\n",
    "\n",
    "shape_len_arr = [sum(shape_len[:i+1]) for i in range(len(shape_len))]\n",
    "total_size = sum(shape_len)\n",
    "\n",
    "cat_index = 0\n",
    "each_index = 0\n",
    "for i in range(total_size):\n",
    "    \n",
    "    for j in range(len(shape_len_arr)):\n",
    "        if i == shape_len_arr[j]:\n",
    "            each_index = 0\n",
    "            cat_index += 1\n",
    "\n",
    "    shape_index[i, 0] = cat_index\n",
    "    shape_index[i, 1] = each_index\n",
    "\n",
    "    \n",
    "    each_index+=1\n",
    "\n",
    "print(shape_index)"
   ]
  },
  {
   "cell_type": "code",
   "execution_count": 7,
   "id": "63c568bd-f739-4f65-81c9-fb57fc565840",
   "metadata": {},
   "outputs": [
    {
     "data": {
      "text/plain": [
       "[2, 4, 8]"
      ]
     },
     "execution_count": 7,
     "metadata": {},
     "output_type": "execute_result"
    }
   ],
   "source": [
    "shape_len_arr"
   ]
  },
  {
   "cell_type": "code",
   "execution_count": null,
   "id": "a5b85dd0-57ae-491f-be78-b2f41718882a",
   "metadata": {},
   "outputs": [],
   "source": []
  }
 ],
 "metadata": {
  "kernelspec": {
   "display_name": "Python 3 (ipykernel)",
   "language": "python",
   "name": "python3"
  },
  "language_info": {
   "codemirror_mode": {
    "name": "ipython",
    "version": 3
   },
   "file_extension": ".py",
   "mimetype": "text/x-python",
   "name": "python",
   "nbconvert_exporter": "python",
   "pygments_lexer": "ipython3",
   "version": "3.9.7"
  }
 },
 "nbformat": 4,
 "nbformat_minor": 5
}
